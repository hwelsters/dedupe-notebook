{
 "cells": [
  {
   "cell_type": "markdown",
   "metadata": {},
   "source": [
    "<img src=\"https://complexity.asu.edu/sites/default/files/comses.jpg\" alt=\"comses.net's logo\" style=\"border: 4px solid  gray; display: flex; justify-content: center;\" height=200>\n",
    "\n",
    "# **Entity Resolution of Tags on ComSES.net using Dedupe**\n",
    "\n",
    "## **🚀 Introduction** \n",
    "><br/>   \n",
    "> ❓ ComSES.net is a digital repository that supports discovery and good practices for software citation, digital preservation, reproducibility, and reuse.    <br/>\n",
    "> Visit it <a href=\"https://www.comses.net/\">here</a>   <br/>\n",
    "> <br/>\n",
    "\n",
    "<br/>\n",
    "On ComSES.net, tags play an important role. They allow users to search for codebases that they are interested in:\n",
    "<img src=\"public/tag-search.png\" alt=\"searching for tags\" style=\"border: 4px solid  gray; display: flex; justify-content: center;\">\n",
    "<sub> <strong>Figure 1. Searching for codebases using tags</strong> </sub>\n",
    "\n",
    "There is also a cool metrics page where researchers can see how the use of various technologies have changed over time:\n",
    "<img src=\"public/metrics-page.png\" alt=\"your-image-description\" height=400 style=\"border: 4px solid  gray; display: flex; justify-content: center;\">\n",
    "\n",
    "<sub><strong> Figure 2. ComSES.net's awesome metrics page</strong></sub>\n",
    "\n",
    "Since there are a great number of technologies available to use for research computing, ComSES does not enforce any rules in the way codebases are tagged by researchers during the codebase creation phase.\n"
   ]
  },
  {
   "cell_type": "markdown",
   "metadata": {},
   "source": [
    "## **❓ Problem**\n",
    "Allowing researchers to write their own tags is wonderful since it allows researchers to better describe their codebase. However, a few problems arise from this scenario.\n",
    "- 1. Codebases with wrongly spelled / abbreviated tags are hard to search for.\n",
    "- 2. Different versions of the same technology aren't grouped together on ComSES.net's metrics page.\n",
    "  For example, on the metrics page, we would ideally like to treat NetLogo 6.1.1, NetLogo 6.2.1 and NetLogo 6.2.2 as the same thing and to display metrics accordingly."
   ]
  },
  {
   "cell_type": "markdown",
   "metadata": {},
   "source": [
    "\n",
    "## **🕵️‍♀️ Existing strategies**\n",
    "### **1. NLTK's Porter Stemmer**\n",
    "\n",
    "\n",
    "> <br/>  \n",
    "> ❓ NLTK is a leading platform for building Python programs to work with human language data. <br/>\n",
    "> For more information, read the <a href=\"https://www.nltk.org\">documentation</a> for NLTK    <br/>\n",
    "> <br/>\n",
    "Use NLTK's porter stemmer to remove common suffixes and group tags accordingly.\n",
    "<img src=\"image-6.png\" alt=\"your-image-description\" style=\"border: 4px solid  gray; display: flex; justify-content: center;\" height=200>\n",
    "<sub>**NLTK's porter-stemmer removing common suffixes to the word connect**</sub>\n",
    "\n",
    "Using the approach above, connect, connected, connection and connecting are treated as the same model. However, this method suffers from the problems identified in the **Problem** section.  \n",
    "**1. Small spelling mistakes have drastic consequences:**\n",
    "<img src=\"image-5.png\" alt=\"your-image-description\" style=\"border: 4px solid  gray; display: flex; justify-content: center;\" height=200>\n",
    "<sub>**NLTK's porter-stemmer fails to account for spelling mistakes**</sub>\n",
    "\n",
    "**2. Different versions of the same software are not grouped accordingly:**\n",
    "<img src=\"image-7.png\" alt=\"your-image-description\" style=\"border: 4px solid  gray; display: flex; justify-content: center;\" height=200>\n",
    "<sub>**Different versions of the same software are not grouped accordingly**</sub>\n",
    "\n",
    "### **2. Regex**\n",
    "> <br/>  \n",
    "> ❓ Regular expressions (regex) are concise patterns for text manipulation and matching.   <br/>\n",
    "> <br/>\n",
    "\n",
    "\n",
    "\n",
    "\n",
    "Use regex to group software of various version numbers.  \n",
    "This approach works reasonably well since most technologies have standard ways of specifying version numbers.\n",
    "\n",
    "However, this method is labor-intensive and requires programmers to write regular expressions for every single thing they would like grouped. ComSES.net currently has 3000+ tags in production so this is not ideal. Also, this means that every time a new technology shows up on ComSES.net, the programmers have to be notified to write a new regex for the technology.\n"
   ]
  },
  {
   "cell_type": "markdown",
   "metadata": {},
   "source": [
    "\n",
    "## **🤖 Using Machine Learning**\n",
    "We want to group similar tags. In machine learning, this task is called [entity resolution](https://www.ibm.com/docs/en/iii/9.0.0?topic=insight-entity-resolution). \n",
    "> <br/>  \n",
    "> ❓ Entity resolution is the process of identifying and merging   \n",
    "> duplicate or similar records in a dataset.   <br/>\n",
    "> <br/>\n",
    "\n",
    "After searching the web for various solutions, we found one that fit our specifications. \n",
    "<img src=\"image-10.png\" alt=\"your-image-description\" style=\"border: 4px solid  gray; display: flex; justify-content: center;\" height=150>\n",
    "\n",
    "Dedupe is wonderful because it accounts for mispellings and abbreviations.  \n",
    "It is also able to group similar versions together without requiring specialized regexes as long as it is provided enough training data.\n",
    "\n",
    "Taken straight from the website:   \n",
    "> <br/>  \n",
    "> 🤓 \"Dedupe.io is a powerful tool that learns the best way to find similar rows in your data. Using cutting-edge research in machine learning we quickly and accurately identify matches in your Excel spreadsheet or database—saving you time and money.\"  \n",
    "> Check out the <a href=\"https://dedupe.io/\">website</a> for more information <br/>\n",
    "> <br/>\n",
    "\n",
    "Dedupe is both a SaaS and a Python library. We decided to use the Python library and took advantage of the following classes:\n",
    "- **Dedupe** - A class for active-learning deduplication. It clusters matching tags that it assumes maps to the same entity.\n",
    "- **Gazetteer** - A class for active learning gazetteer matching. It matches a messy data set against a 'canonical dataset'.\n",
    "\n",
    "### **⭐ Starting out**\n",
    "\n",
    "It is pretty easy to get started with using the `Dedupe` class.  \n",
    "You simply have to provide a list of columns and specify the variable type of each column:  \n",
    "In our case, we only had a single column.\n"
   ]
  },
  {
   "cell_type": "code",
   "execution_count": null,
   "metadata": {},
   "outputs": [],
   "source": [
    "%pip install dedupe"
   ]
  },
  {
   "cell_type": "code",
   "execution_count": null,
   "metadata": {},
   "outputs": [],
   "source": [
    "import dedupe\n",
    "\n",
    "columns = [\n",
    "    {'field' : 'name', 'type': 'String'},\n",
    "]\n",
    "deduper = dedupe.Dedupe(columns)"
   ]
  },
  {
   "cell_type": "markdown",
   "metadata": {},
   "source": [
    "\n",
    "### **💪 Training the clustering model**\n",
    "To start out, you also have to provide Dedupe with pairs of tags that should be mapped together.  \n",
    "The Dedupe class has a simple function which returns the pair of tags that it is most uncertain about:\n"
   ]
  },
  {
   "cell_type": "code",
   "execution_count": 2,
   "metadata": {},
   "outputs": [
    {
     "name": "stdout",
     "output_type": "stream",
     "text": [
      "[({'name': 'agent-based model'}, {'name': 'agent based model'})]\n"
     ]
    }
   ],
   "source": [
    "pair = deduper.uncertain_pairs()\n",
    "print(pair)"
   ]
  },
  {
   "cell_type": "markdown",
   "metadata": {},
   "source": [
    "\n",
    "\n",
    "After this, you pass the label back into the model like so. Since both the tags above match, we do the following:\n",
    "```python\n",
    ">> labeled_examples = {\n",
    ">>     \"match\": [({'name' : 'agent-based model'}, {'name' : 'agent based model'})],\n",
    ">>     \"distinct\": [\n",
    ">>     ],\n",
    ">> }\n",
    ">> matcher.mark_pairs(labeled_examples)\n",
    "```\n",
    "\n",
    "On ComSES.net, we created a command line interface for labelling data.\n",
    "\n",
    "\n",
    "### **✨Clustering✨**\n",
    "You would definitely need to label a few more instances before your model can start working.  \n",
    "Once you are done with this, you can move on to the true magic. You pass in a list of records you would like to cluster and set a threshold.\n",
    "Your list of records should be formatted as follows:\n",
    "```python\n",
    "{\n",
    "    0: {'name': 'agents'},\n",
    "    1: {'name': 'agent-based models'},\n",
    "    2: {'name': 'agent-based models (abms)'},\n",
    "    3: {'name': 'agent-based model'},\n",
    "    4: {'name': 'agants'},\n",
    "}\n",
    "```\n",
    "```python\n",
    ">> duplicates = matcher.partition(data, threshold=0.5)\n",
    ">> duplicates\n",
    "[\n",
    "    ((1, 2, 3), (0.790, 0.860, 0.790)),\n",
    "    ((0, 4), (0.720, 0.720)),\n",
    "]\n",
    "```\n",
    "\n",
    "It isn't immediately clear what the array of tuples means but the tuples returned are:\n",
    "(list of ids of records that are grouped together, list of confidence values for each id).\n",
    "In this scenario, these are the groupings\n",
    "Group 1:\n",
    "```python\n",
    "{'name': 'agent-based models'}\n",
    "{'name': 'agent-based models (abms)'}\n",
    "{'name': 'agent-based model'}\n",
    "```\n",
    "\n",
    "Group 2:\n",
    "```python\n",
    "{'name': 'agents'}\n",
    "{'name': 'agants'}\n",
    "```"
   ]
  },
  {
   "cell_type": "markdown",
   "metadata": {},
   "source": [
    "\n",
    "### **⭐ Starting out**\n",
    "\n",
    "It is pretty easy to get started with using the `Dedupe` class.  \n",
    "You simply have to provide a list of columns and specify the variable type of each column:  \n",
    "In our case, we only had a single column.\n",
    "\n",
    "```python\n",
    ">> columns = [\n",
    ">>     {'field' : 'name', 'type': 'String'},\n",
    ">> ]\n",
    ">> deduper = dedupe.Dedupe(columns)\n",
    "```\n",
    "\n",
    "### **💪 Training the model**\n",
    "To start out, you also have to provide Dedupe with pairs of tags that should be mapped together.  \n",
    "The Dedupe class has a simple function which returns the pair of tags that it is most uncertain about:\n",
    "```python\n",
    ">> pair = matcher.uncertain_pairs()\n",
    ">> print(pair)\n",
    "[({'name' : 'agent-based model'}, {'name' : 'agent based model'})]\n",
    "```\n",
    "\n",
    "After this, you pass the label back into the model like so. Since both the tags above match, we do the following:\n",
    "```python\n",
    ">> labeled_examples = {\n",
    ">>     \"match\": [({'name' : 'agent-based model'}, {'name' : 'agent based model'})],\n",
    ">>     \"distinct\": [\n",
    ">>     ],\n",
    ">> }\n",
    ">> matcher.mark_pairs(labeled_examples)\n",
    "```\n",
    "\n",
    "On ComSES.net, we created a command line interface for labelling data.\n",
    "\n",
    "\n",
    "### **✨Clustering✨**\n",
    "You would definitely need to label a few more instances before your model can start working.  \n",
    "Once you are done with this, you can move on to the true magic. You pass in a list of records you would like to cluster and set a threshold.\n",
    "Your list of records should be formatted as follows:\n",
    "```python\n",
    "{\n",
    "    0: {'name': 'agents'},\n",
    "    1: {'name': 'agent-based models'},\n",
    "    2: {'name': 'agent-based models (abms)'},\n",
    "    3: {'name': 'agent-based model'},\n",
    "    4: {'name': 'agants'},\n",
    "}\n",
    "```\n",
    "```python\n",
    ">> duplicates = matcher.partition(data, threshold=0.5)\n",
    ">> duplicates\n",
    "[\n",
    "    ((1, 2, 3), (0.790, 0.860, 0.790)),\n",
    "    ((0, 4), (0.720, 0.720)),\n",
    "]\n",
    "```\n",
    "\n",
    "It isn't immediately clear what the array of tuples means but the tuples returned are:\n",
    "(list of ids of records that are grouped together, list of confidence values for each id).\n",
    "In this scenario, these are the groupings\n",
    "Group 1:\n",
    "```python\n",
    "{'name': 'agent-based models'}\n",
    "{'name': 'agent-based models (abms)'}\n",
    "{'name': 'agent-based model'}\n",
    "```\n",
    "\n",
    "Group 2:\n",
    "```python\n",
    "{'name': 'agents'}\n",
    "{'name': 'agants'}\n",
    "```"
   ]
  },
  {
   "cell_type": "markdown",
   "metadata": {},
   "source": [
    "## **🔨 Workflow**\n",
    "Using these classes, we implemented a reasonably simple workflow for a curator to cluster the tags.\n",
    "![Alt text](image-1.png)  \n",
    "<sub>Diagram for the human in the loop workflow</sub>\n",
    "\n",
    "Every time the curator provides new tags to the system, the model gets more and more labelled data and gets better and better!\n"
   ]
  },
  {
   "cell_type": "markdown",
   "metadata": {},
   "source": [
    "## **👩‍🚀 Future work**\n",
    "It is definitely quite a pain to do "
   ]
  },
  {
   "cell_type": "markdown",
   "metadata": {},
   "source": [
    "ComSES mission  \n",
    "Workflow  \n",
    "Results  \n",
    "Future Work  "
   ]
  },
  {
   "cell_type": "markdown",
   "metadata": {},
   "source": []
  }
 ],
 "metadata": {
  "kernelspec": {
   "display_name": "Python 3",
   "language": "python",
   "name": "python3"
  },
  "language_info": {
   "codemirror_mode": {
    "name": "ipython",
    "version": 3
   },
   "file_extension": ".py",
   "mimetype": "text/x-python",
   "name": "python",
   "nbconvert_exporter": "python",
   "pygments_lexer": "ipython3",
   "version": "3.11.5"
  },
  "orig_nbformat": 4
 },
 "nbformat": 4,
 "nbformat_minor": 2
}
